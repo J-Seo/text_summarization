{
  "nbformat": 4,
  "nbformat_minor": 0,
  "metadata": {
    "colab": {
      "name": "main.py",
      "version": "0.3.2",
      "provenance": [],
      "collapsed_sections": []
    },
    "kernelspec": {
      "name": "python3",
      "display_name": "Python 3"
    }
  },
  "cells": [
    {
      "cell_type": "code",
      "metadata": {
        "id": "LEOhvxrLdLOJ",
        "colab_type": "code",
        "colab": {}
      },
      "source": [
        "if __name__ ='__main__':\n",
        "    ## 학습 과정을 볼 수 있는데 최적화된 INFO 로깅 유형\n",
        "    tf.logging.set_verbosity(tf.logging.INFO) ## 텐서의 5가지 로깅 유형 중 하나 \n",
        "    tf.app.run(main)\n",
        "    \n",
        "tf.logging.set_verbosity\n",
        "\n",
        "## 훈련 > 평가 > 예측 세 과정을 담아내고 있음"
      ],
      "execution_count": 0,
      "outputs": []
    },
    {
      "cell_type": "code",
      "metadata": {
        "id": "eKt76QbxfolM",
        "colab_type": "code",
        "colab": {}
      },
      "source": [
        "import tensorflow as tf\n",
        "import model as ml\n",
        "import data\n",
        "import numpy as np\n",
        "import os\n",
        "import sys\n",
        "\n",
        "from configs import DEFINES"
      ],
      "execution_count": 0,
      "outputs": []
    },
    {
      "cell_type": "code",
      "metadata": {
        "id": "l63uvfTvhTJZ",
        "colab_type": "code",
        "colab": {}
      },
      "source": [
        "# 구글 드라이브 path 설정은 여기 해야 할 듯..."
      ],
      "execution_count": 0,
      "outputs": []
    },
    {
      "cell_type": "code",
      "metadata": {
        "id": "UBnY_OPFfodY",
        "colab_type": "code",
        "colab": {}
      },
      "source": [
        "def main(self):\n",
        "    ## DATA_OUT_PATH가 없으면 생성, 있으면 그대로 폴더 사용\n",
        "    data_out_path = os.path.join(os.getcwd(), DATA_OUT_PATH)\n",
        "    os.makedirs(data_out_path, exist_ok = True)\n",
        "    ## 단어 사전 불러오기\n",
        "    word2idx, idx2word, vocabulary_length = data.load_vocabulary()\n",
        "    ## 데이터 불러오기\n",
        "    train_input, train_label, eval_input, eval_label = data.load_data()\n",
        "    \n",
        "    ## 인코더 입력, 디코더 입력, 디코더 타깃  훈련 데이터로 만들기\n",
        "    train_input_enc, train_input_enc_length = data.enc_processing(train_input, word2idx)\n",
        "    train_output_dec, train_input_dec_length = data.dec_input_processing(train_label, word2idx)\n",
        "    \n",
        "    train_target_dec = data.dec_target_processing(train_label, word2idx)\n",
        "    \n",
        "    ## 인코더 입력, 디코더 입력, 디코더 타깃  검증 데이터로 만들기\n",
        "    eval_input_enc, eval_input_enc_length = data.enc_processing(eval_input, word2idx)\n",
        "    eval_output_dec, eval_input_dec_length = data.dec_input_processing(eval_label, word2idx)\n",
        "    \n",
        "    eval_target_dec = data.dec_target_processing(eval_label, word2idx)\n",
        "    \n",
        "    ## 체크 포인트 설정\n",
        "    ## data_out 폴더에 생성될 것\n",
        "    check_point_path = os.path.join(os.getcwd(), DEFINES.check_point_path)\n",
        "    os.makedirs(check_point_path, exist_ok = True)\n",
        "    \n",
        "    \n",
        "    # Estimator 객체 생성\n",
        "    classifier = tf.estimator.Estimator(model_fn = ml.model, ## 모델 불러오기\n",
        "                                       model_dir = DEFINES.check_point_path,\n",
        "                                       params = {\n",
        "                                           'hidden_size': DEFINES.hidden_size,\n",
        "                                           'layer_size': DEFINES.layer_size,\n",
        "                                           'learning_rate': DEFINES.learning_rate,\n",
        "                                           'vocabulary_length': vocabulary_length,\n",
        "                                           'embedding_size': DEFINES.embeddding_size,\n",
        "                                           'embedding': DEFINES.embedding,\n",
        "                                           'multilayer': DEFINES.multilayer,\n",
        "                                       })\n",
        "    \n",
        "    \n",
        "    # Estimator로 학습 진행\n",
        "    ## 필요 인자: 입력 함수, 스텝 \n",
        "    classifier.train(input_fn = lambda: data.train_input_fn(\n",
        "    train_input_enc, train_input_dec, train_target_dec, DEFINES.batch_size),\n",
        "                    steps = DEFINES.train_steps)\n",
        "    \n",
        "    \n",
        "    ## 검증 함수 정의\n",
        "    eval_result = classifier.evaluate(input_fn = lambda: data.eval_input_fn(\n",
        "    eval_input_enc, eval_input_dec, eval_target_dec, DEFINES.batch_size))\n",
        "    \n",
        "    ## 바로 성능 확인이 가능하도록 정확도 출력 함수 작성\n",
        "    print('\\nEVAL set accuracy: {accuracy:0.3f}\\n'.format(**eval_result))\n",
        "    \n",
        "    \n",
        "    # 결과 예측하기\n",
        "    \n",
        "    predic_input_enc, predic_input_enc_length = data.enc_processing([\"Education is important\"],\n",
        "                                                                   word2idx)\n",
        "    predic_input_dec, predic_input_dec_length = data.dec_input_processing([\"\"], word2idx)\n",
        "    predic_target_dec = data.dec_target_processing([\"\"], word2idx)\n",
        "    \n",
        "    predictions = classifier.predict(\n",
        "        input_fn = lambda: data.eval_input_fn(predic_input_enc, predic_input_dec,\n",
        "                                             predic_target_dec, DEFINES.batch_size))\n",
        "    \n",
        "    data.pred2string(predictions, idx2word)\n",
        "    \n",
        "    \n",
        "    \n",
        "    \n",
        "## python main.py로 실행\n"
      ],
      "execution_count": 0,
      "outputs": []
    },
    {
      "cell_type": "code",
      "metadata": {
        "id": "OTABcST2hmLl",
        "colab_type": "code",
        "colab": {}
      },
      "source": [
        ""
      ],
      "execution_count": 0,
      "outputs": []
    },
    {
      "cell_type": "code",
      "metadata": {
        "id": "mP2tY5PshmKX",
        "colab_type": "code",
        "colab": {}
      },
      "source": [
        ""
      ],
      "execution_count": 0,
      "outputs": []
    },
    {
      "cell_type": "code",
      "metadata": {
        "id": "pIJVu7RXhmEh",
        "colab_type": "code",
        "colab": {}
      },
      "source": [
        ""
      ],
      "execution_count": 0,
      "outputs": []
    }
  ]
}