{
 "cells": [
  {
   "cell_type": "code",
   "execution_count": 86,
   "metadata": {},
   "outputs": [],
   "source": [
    "import pickle\n",
    "import pandas as pd\n",
    "import re"
   ]
  },
  {
   "cell_type": "code",
   "execution_count": 97,
   "metadata": {},
   "outputs": [
    {
     "name": "stdout",
     "output_type": "stream",
     "text": [
      "0 lt col alexander s vindman , the top ukraine expert on the national security council , told house impeachment investigators on tuesday that the white house transcript of a july call between president trump and ukraine 's president omitted crucial words and phrases , and that his attempts to include them failed , according to three people familiar with the testimony\n",
      "1 the omissions , colonel vindman said , included mr trump 's assertion that there were recordings of former vice president joseph r biden jr discussing ukraine corruption , and an explicit mention by ukraine 's president , volodymyr zelensky , of burisma holdings , the energy company whose board employed mr biden 's son hunter\n",
      "2 colonel vindman , who appeared on capitol hill wearing his dark blue army dress uniform and military medals , told house impeachment investigators that he tried to change the reconstructed transcript made by the white house staff to reflect the omissions but while some of his edits appeared to have been successful , he said , those two corrections were not made\n",
      "3 colonel vindman did not testify to a motive behind the editing process but his testimony is likely to drive investigators to ask further questions about how officials handled the call , including changes to the transcript and the decision to put it into the white house 's most classified computer system — and whether those moves were meant to conceal the conversation 's most controversial aspects\n"
     ]
    }
   ],
   "source": [
    "test_path = './deep_test.txt'\n",
    "test_dict = {}\n",
    "\n",
    "with open(test_path, 'r', encoding = 'utf-8') as f:\n",
    "    # print(f.readlines()) # 데이터 형식은 리스트, 리스트 안에 문자열로 들어있음.\n",
    "    for idx, text in enumerate(f.readlines()):\n",
    "        # print(idx, text)\n",
    "        text = text.lower() # 소문자로 통일\n",
    "        text = re.sub('[.]', '', text) # 일단 온점 모두 제거\n",
    "        text = re.sub('[,]', ' ,', text) # 반점 하나의 단어로 인식\n",
    "        text = re.sub(\"\\’s\",' \\'s', text) # 소유격도 하나의 단어로 인식\n",
    "        text = re.sub(\"[0-9]\", '#', text) # 숫자를 #로 치환\n",
    "        #text = re.sub(\"'.+'\", '', text) # 작은 따옴표 안 고유명사 제거 \n",
    "        text = re.sub('[\"\"]', '', text) # 큰 따옴표 제거 \n",
    "        text = re.sub('\\n', '', text) # 줄 바꿈표 제거 \n",
    "        print(idx, text)\n",
    "        \n",
    "        # 사전에 저장하기\n",
    "        test_dict[idx] = text\n",
    "        \n",
    "        \n"
   ]
  },
  {
   "cell_type": "code",
   "execution_count": 88,
   "metadata": {},
   "outputs": [],
   "source": [
    "with open(\"word_dict.pickle\", \"rb\") as f:\n",
    "    word_dict = pickle.load(f)\n",
    "    \n"
   ]
  },
  {
   "cell_type": "code",
   "execution_count": null,
   "metadata": {},
   "outputs": [],
   "source": []
  },
  {
   "cell_type": "code",
   "execution_count": 89,
   "metadata": {},
   "outputs": [],
   "source": [
    "# unk 항목 사전에 처리하기 \n",
    "for count in range(len(test_dict)):\n",
    "    test_word = test_dict[count].split(' ')\n",
    "    for ix, word in enumerate(test_word):\n",
    "        try: \n",
    "        \n",
    "            word_dict[word]\n",
    "    \n",
    "        except:\n",
    "        \n",
    "            test_word[ix] = '<unk>'\n",
    "        \n",
    "    test_dict[count] = ' '.join(test_word)\n",
    "        "
   ]
  },
  {
   "cell_type": "code",
   "execution_count": 95,
   "metadata": {},
   "outputs": [
    {
     "data": {
      "text/plain": [
       "63"
      ]
     },
     "execution_count": 95,
     "metadata": {},
     "output_type": "execute_result"
    }
   ],
   "source": [
    "len(test_dict[2].split(' '))"
   ]
  },
  {
   "cell_type": "code",
   "execution_count": 98,
   "metadata": {},
   "outputs": [],
   "source": [
    "with open('test_deep_project.txt', 'w', encoding = 'utf-8') as f:\n",
    "    for i in range(len(test_dict)):\n",
    "        test_dict[i] = test_dict[i] + \" \" + \".\" + \"\\n\"\n",
    "        f.write(test_dict[i])"
   ]
  },
  {
   "cell_type": "code",
   "execution_count": null,
   "metadata": {},
   "outputs": [],
   "source": []
  }
 ],
 "metadata": {
  "kernelspec": {
   "display_name": "Python 3",
   "language": "python",
   "name": "python3"
  },
  "language_info": {
   "codemirror_mode": {
    "name": "ipython",
    "version": 3
   },
   "file_extension": ".py",
   "mimetype": "text/x-python",
   "name": "python",
   "nbconvert_exporter": "python",
   "pygments_lexer": "ipython3",
   "version": "3.7.3"
  }
 },
 "nbformat": 4,
 "nbformat_minor": 2
}
